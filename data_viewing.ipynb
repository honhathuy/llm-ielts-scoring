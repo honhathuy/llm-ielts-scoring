{
 "cells": [
  {
   "cell_type": "code",
   "execution_count": 1,
   "id": "40c2901a",
   "metadata": {},
   "outputs": [],
   "source": [
    "import pandas as pd\n",
    "import matplotlib.pyplot as plt\n",
    "import numpy as np"
   ]
  },
  {
   "cell_type": "code",
   "execution_count": 2,
   "id": "501a3001",
   "metadata": {},
   "outputs": [
    {
     "name": "stdout",
     "output_type": "stream",
     "text": [
      "The number of unique prompt is: 407\n"
     ]
    }
   ],
   "source": [
    "file_path = 'data/test.csv'\n",
    "df = pd.read_csv(file_path)\n",
    "\n",
    "# returns the number of distinct items.\n",
    "unique_question_count = df['prompt'].nunique()\n",
    "print(f\"The number of unique prompt is: {unique_question_count}\")"
   ]
  },
  {
   "cell_type": "code",
   "execution_count": 3,
   "id": "0f53bec5",
   "metadata": {},
   "outputs": [
    {
     "data": {
      "application/vnd.microsoft.datawrangler.viewer.v0+json": {
       "columns": [
        {
         "name": "index",
         "rawType": "int64",
         "type": "integer"
        },
        {
         "name": "ID",
         "rawType": "int32",
         "type": "integer"
        },
        {
         "name": "Question",
         "rawType": "object",
         "type": "string"
        },
        {
         "name": "Count",
         "rawType": "int64",
         "type": "integer"
        }
       ],
       "ref": "f7d625ba-f08f-4826-9cf8-f63d7fa5ab9a",
       "rows": [
        [
         "0",
         "1",
         "The best way to teach children to cooperate is through team sports at school. To what extent do you agree or disagree?",
         "7"
        ],
        [
         "1",
         "2",
         "The increase in the production of consumer goods results in damage to the natural environment. What are the causes of this? What can be done to solve this problem?",
         "6"
        ],
        [
         "2",
         "3",
         "Some people believe that teenagers should be required to do unpaid community work in their free time. This can benefit teenagers and the community as well. To what extent do you agree or disagree?",
         "6"
        ],
        [
         "3",
         "4",
         "Children find it difficult to concentrate on or pay attention to their studies in school. What are the reasons? How can we solve this problem?",
         "5"
        ],
        [
         "4",
         "5",
         "As well as making money, businesses also have social responsibilities. To what extent do you agree or disagree?",
         "5"
        ]
       ],
       "shape": {
        "columns": 3,
        "rows": 5
       }
      },
      "text/html": [
       "<div>\n",
       "<style scoped>\n",
       "    .dataframe tbody tr th:only-of-type {\n",
       "        vertical-align: middle;\n",
       "    }\n",
       "\n",
       "    .dataframe tbody tr th {\n",
       "        vertical-align: top;\n",
       "    }\n",
       "\n",
       "    .dataframe thead th {\n",
       "        text-align: right;\n",
       "    }\n",
       "</style>\n",
       "<table border=\"1\" class=\"dataframe\">\n",
       "  <thead>\n",
       "    <tr style=\"text-align: right;\">\n",
       "      <th></th>\n",
       "      <th>ID</th>\n",
       "      <th>Question</th>\n",
       "      <th>Count</th>\n",
       "    </tr>\n",
       "  </thead>\n",
       "  <tbody>\n",
       "    <tr>\n",
       "      <th>0</th>\n",
       "      <td>1</td>\n",
       "      <td>The best way to teach children to cooperate is...</td>\n",
       "      <td>7</td>\n",
       "    </tr>\n",
       "    <tr>\n",
       "      <th>1</th>\n",
       "      <td>2</td>\n",
       "      <td>The increase in the production of consumer goo...</td>\n",
       "      <td>6</td>\n",
       "    </tr>\n",
       "    <tr>\n",
       "      <th>2</th>\n",
       "      <td>3</td>\n",
       "      <td>Some people believe that teenagers should be r...</td>\n",
       "      <td>6</td>\n",
       "    </tr>\n",
       "    <tr>\n",
       "      <th>3</th>\n",
       "      <td>4</td>\n",
       "      <td>Children find it difficult to concentrate on o...</td>\n",
       "      <td>5</td>\n",
       "    </tr>\n",
       "    <tr>\n",
       "      <th>4</th>\n",
       "      <td>5</td>\n",
       "      <td>As well as making money, businesses also have ...</td>\n",
       "      <td>5</td>\n",
       "    </tr>\n",
       "  </tbody>\n",
       "</table>\n",
       "</div>"
      ],
      "text/plain": [
       "   ID                                           Question  Count\n",
       "0   1  The best way to teach children to cooperate is...      7\n",
       "1   2  The increase in the production of consumer goo...      6\n",
       "2   3  Some people believe that teenagers should be r...      6\n",
       "3   4  Children find it difficult to concentrate on o...      5\n",
       "4   5  As well as making money, businesses also have ...      5"
      ]
     },
     "execution_count": 3,
     "metadata": {},
     "output_type": "execute_result"
    }
   ],
   "source": [
    "prompt_counts = df['prompt'].value_counts()\n",
    "sorted_counts = prompt_counts.sort_values(ascending=False)\n",
    "summary_df = pd.DataFrame({'Question': sorted_counts.index, 'Count': sorted_counts.values})\n",
    "summary_df['ID'] = np.arange(1, len(summary_df) + 1)\n",
    "summary_df = summary_df[['ID', 'Question', 'Count']]\n",
    "summary_df.head()"
   ]
  },
  {
   "cell_type": "code",
   "execution_count": 4,
   "id": "7b8d5edf",
   "metadata": {},
   "outputs": [
    {
     "data": {
      "application/vnd.microsoft.datawrangler.viewer.v0+json": {
       "columns": [
        {
         "name": "index",
         "rawType": "int64",
         "type": "integer"
        },
        {
         "name": "Occurrence Count",
         "rawType": "int64",
         "type": "integer"
        },
        {
         "name": "Number of Unique Questions",
         "rawType": "int64",
         "type": "integer"
        }
       ],
       "ref": "0668c411-117d-4f85-9f26-d6b99e547b47",
       "rows": [
        [
         "0",
         "1",
         "350"
        ],
        [
         "1",
         "2",
         "45"
        ],
        [
         "2",
         "3",
         "6"
        ],
        [
         "3",
         "4",
         "1"
        ],
        [
         "4",
         "5",
         "2"
        ]
       ],
       "shape": {
        "columns": 2,
        "rows": 5
       }
      },
      "text/html": [
       "<div>\n",
       "<style scoped>\n",
       "    .dataframe tbody tr th:only-of-type {\n",
       "        vertical-align: middle;\n",
       "    }\n",
       "\n",
       "    .dataframe tbody tr th {\n",
       "        vertical-align: top;\n",
       "    }\n",
       "\n",
       "    .dataframe thead th {\n",
       "        text-align: right;\n",
       "    }\n",
       "</style>\n",
       "<table border=\"1\" class=\"dataframe\">\n",
       "  <thead>\n",
       "    <tr style=\"text-align: right;\">\n",
       "      <th></th>\n",
       "      <th>Occurrence Count</th>\n",
       "      <th>Number of Unique Questions</th>\n",
       "    </tr>\n",
       "  </thead>\n",
       "  <tbody>\n",
       "    <tr>\n",
       "      <th>0</th>\n",
       "      <td>1</td>\n",
       "      <td>350</td>\n",
       "    </tr>\n",
       "    <tr>\n",
       "      <th>1</th>\n",
       "      <td>2</td>\n",
       "      <td>45</td>\n",
       "    </tr>\n",
       "    <tr>\n",
       "      <th>2</th>\n",
       "      <td>3</td>\n",
       "      <td>6</td>\n",
       "    </tr>\n",
       "    <tr>\n",
       "      <th>3</th>\n",
       "      <td>4</td>\n",
       "      <td>1</td>\n",
       "    </tr>\n",
       "    <tr>\n",
       "      <th>4</th>\n",
       "      <td>5</td>\n",
       "      <td>2</td>\n",
       "    </tr>\n",
       "  </tbody>\n",
       "</table>\n",
       "</div>"
      ],
      "text/plain": [
       "   Occurrence Count  Number of Unique Questions\n",
       "0                 1                         350\n",
       "1                 2                          45\n",
       "2                 3                           6\n",
       "3                 4                           1\n",
       "4                 5                           2"
      ]
     },
     "execution_count": 4,
     "metadata": {},
     "output_type": "execute_result"
    }
   ],
   "source": [
    "count_of_counts = sorted_counts.value_counts().sort_index()\n",
    "\n",
    "# Create a DataFrame for this new analysis\n",
    "count_summary_df = pd.DataFrame({\n",
    "    'Occurrence Count': count_of_counts.index,\n",
    "    'Number of Unique Questions': count_of_counts.values\n",
    "})\n",
    "count_summary_df.head()"
   ]
  },
  {
   "cell_type": "code",
   "execution_count": 5,
   "id": "8b45a72d",
   "metadata": {},
   "outputs": [],
   "source": [
    "df['band'] = df['band'].replace('<4', 3)\n",
    "df['band'] = pd.to_numeric(df['band'], errors='coerce')\n",
    "band_count = df['band'].value_counts()\n",
    "sorted_band_counts = band_count.sort_values(ascending=False)"
   ]
  }
 ],
 "metadata": {
  "kernelspec": {
   "display_name": "chatbot_env_new",
   "language": "python",
   "name": "python3"
  },
  "language_info": {
   "codemirror_mode": {
    "name": "ipython",
    "version": 3
   },
   "file_extension": ".py",
   "mimetype": "text/x-python",
   "name": "python",
   "nbconvert_exporter": "python",
   "pygments_lexer": "ipython3",
   "version": "3.11.13"
  }
 },
 "nbformat": 4,
 "nbformat_minor": 5
}
